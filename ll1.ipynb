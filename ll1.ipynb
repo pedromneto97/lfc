{
 "cells": [
  {
   "cell_type": "code",
   "execution_count": 14,
   "metadata": {},
   "outputs": [],
   "source": [
    "class LL1:\n",
    "    def __init__(self,input):\n",
    "        self.input = input\n",
    "    \n",
    "    def proximo(self):\n",
    "        return self.input[0]\n",
    "    \n",
    "    def avanca(self):\n",
    "        self.input = self.input[1:]\n",
    "    \n",
    "    def s(self):\n",
    "        print(\"S -> E\")\n",
    "        self.e()\n",
    "        \n",
    "    def e(self):\n",
    "        print(\"E -> TF\")\n",
    "        self.t()\n",
    "        self.f()\n",
    "    \n",
    "    def f(self):\n",
    "        if self.proximo() == '+' :\n",
    "            rule = \"+E\"\n",
    "        elif self.proximo() == '*':\n",
    "            rule = \"*E\"\n",
    "        else:\n",
    "            rule = '~'\n",
    "        print(\"F -> \"+rule)\n",
    "        if rule == \"+E\" or rule == \"*E\":\n",
    "            self.avanca()\n",
    "            self.e()\n",
    "    \n",
    "    def t(self):\n",
    "        if self.proximo() == 'a':\n",
    "            rule = 'a'\n",
    "        elif self.proximo() == 'b':\n",
    "            rule = 'b'\n",
    "        elif self.proximo() == 'c':\n",
    "            rule = 'c'\n",
    "        elif self.proximo() == '(':\n",
    "            rule = '(E)'\n",
    "        else:\n",
    "            raise\n",
    "        print(\"T -> \"+ rule)\n",
    "        # Usar o in?\n",
    "        if rule == 'a' or rule == 'b' or rule == 'c':\n",
    "            self.avanca()\n",
    "        elif rule == '(E)':\n",
    "            self.avanca()\n",
    "            self.e()\n",
    "            if self.proximo != ')':\n",
    "                raise\n",
    "            self.avanca()\n",
    "        \n",
    "    def parse(self):\n",
    "        try:\n",
    "            self.s()\n",
    "            if self.proximo == '$':\n",
    "                return True\n",
    "        except:\n",
    "            return False\n",
    "        return False"
   ]
  },
  {
   "cell_type": "code",
   "execution_count": 21,
   "metadata": {},
   "outputs": [
    {
     "name": "stdout",
     "output_type": "stream",
     "text": [
      "S -> E\n",
      "E -> TF\n",
      "T -> a\n",
      "F -> +E\n",
      "E -> TF\n",
      "T -> b\n",
      "F -> +E\n",
      "E -> TF\n",
      "T -> c\n",
      "F -> *E\n",
      "E -> TF\n",
      "T -> (E)\n",
      "E -> TF\n",
      "T -> a\n",
      "F -> +E\n",
      "E -> TF\n",
      "T -> b\n",
      "F -> ~\n"
     ]
    },
    {
     "data": {
      "text/plain": [
       "False"
      ]
     },
     "execution_count": 21,
     "metadata": {},
     "output_type": "execute_result"
    }
   ],
   "source": [
    "entrada = \"a+b+c*(a+b)\"+'$'\n",
    "ll1 = LL1(entrada)\n",
    "ll1.parse()"
   ]
  }
 ],
 "metadata": {
  "kernelspec": {
   "display_name": "Python 3",
   "language": "python",
   "name": "python3"
  },
  "language_info": {
   "codemirror_mode": {
    "name": "ipython",
    "version": 3
   },
   "file_extension": ".py",
   "mimetype": "text/x-python",
   "name": "python",
   "nbconvert_exporter": "python",
   "pygments_lexer": "ipython3",
   "version": "3.6.5"
  }
 },
 "nbformat": 4,
 "nbformat_minor": 2
}
